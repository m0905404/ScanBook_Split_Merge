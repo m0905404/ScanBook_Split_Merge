{
 "cells": [
  {
   "cell_type": "code",
   "execution_count": 4,
   "id": "22956abb",
   "metadata": {},
   "outputs": [
    {
     "name": "stdout",
     "output_type": "stream",
     "text": [
      "✅ 偵測到表頭位於第 3 行\n",
      "<class 'pandas.core.frame.DataFrame'>\n",
      "RangeIndex: 550782 entries, 0 to 550781\n",
      "Data columns (total 6 columns):\n",
      " #   Column   Non-Null Count   Dtype  \n",
      "---  ------   --------------   -----  \n",
      " 0   PopName  550782 non-null  object \n",
      " 1   Year     550782 non-null  int64  \n",
      " 2   Age      545820 non-null  float64\n",
      " 3   Female   550227 non-null  float64\n",
      " 4   Male     550227 non-null  float64\n",
      " 5   Total    550227 non-null  float64\n",
      "dtypes: float64(4), int64(1), object(1)\n",
      "memory usage: 25.2+ MB\n",
      "None\n",
      "  PopName  Year  Age   Female     Male    Total\n",
      "0     AUS  1921  0.0  3842.31  5124.54  8966.85\n",
      "1     AUS  1921  1.0   719.25   890.36  1609.61\n",
      "2     AUS  1921  2.0   330.11   358.94   689.05\n",
      "3     AUS  1921  3.0   166.06   249.66   415.72\n",
      "4     AUS  1921  4.0   190.07   196.52   386.59\n",
      "✅ 已成功將檔案轉存為：Deaths_1x1.xlsx\n"
     ]
    }
   ],
   "source": [
    "import pandas as pd\n",
    "\n",
    "# === 檔案設定 ===\n",
    "input_file = r\"hmd_statistics_20250925\\deaths\\Deaths_1x1\\Deaths_1x1.txt\"\n",
    "output_file = \"Deaths_1x1.xlsx\"\n",
    "\n",
    "# === 自動尋找表頭行號 ===\n",
    "header_line = None\n",
    "with open(input_file, \"r\", encoding=\"utf-8\") as f:\n",
    "    for i, line in enumerate(f):\n",
    "        if line.strip().startswith(\"PopName\"):\n",
    "            header_line = i\n",
    "            break\n",
    "\n",
    "if header_line is None:\n",
    "    raise ValueError(\"❌ 找不到表頭（PopName）行，請確認檔案格式是否正確。\")\n",
    "\n",
    "print(f\"✅ 偵測到表頭位於第 {header_line + 1} 行\")\n",
    "\n",
    "# === 讀取資料 ===\n",
    "df = pd.read_csv(\n",
    "    input_file,\n",
    "    sep=r\"\\s+\",              # 以空白分隔\n",
    "    header=0,\n",
    "    skiprows=header_line,\n",
    "    low_memory=False\n",
    ")\n",
    "\n",
    "# === 數值欄位轉 float ===\n",
    "numeric_cols = [\"Year\", \"Age\", \"Female\", \"Male\", \"Total\"]\n",
    "\n",
    "for col in numeric_cols:\n",
    "    if col in df.columns:\n",
    "        df[col] = pd.to_numeric(df[col], errors=\"coerce\")  # 非數值轉 NaN\n",
    "\n",
    "# === 檢查結果 ===\n",
    "print(df.info())\n",
    "print(df.head())\n",
    "\n",
    "# === 匯出 Excel ===\n",
    "df.to_excel(output_file, index=False)\n",
    "print(f\"✅ 已成功將檔案轉存為：{output_file}\")\n"
   ]
  }
 ],
 "metadata": {
  "kernelspec": {
   "display_name": "Python 3",
   "language": "python",
   "name": "python3"
  },
  "language_info": {
   "codemirror_mode": {
    "name": "ipython",
    "version": 3
   },
   "file_extension": ".py",
   "mimetype": "text/x-python",
   "name": "python",
   "nbconvert_exporter": "python",
   "pygments_lexer": "ipython3",
   "version": "3.11.9"
  }
 },
 "nbformat": 4,
 "nbformat_minor": 5
}
